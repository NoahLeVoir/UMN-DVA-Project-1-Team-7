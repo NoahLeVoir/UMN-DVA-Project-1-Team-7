{
 "cells": [
  {
   "cell_type": "markdown",
   "metadata": {},
   "source": [
    "# UFO Sightings Analysis"
   ]
  },
  {
   "cell_type": "markdown",
   "metadata": {},
   "source": [
    "## Load the CSV file\n",
    "### Noah Code Starts here"
   ]
  },
  {
   "cell_type": "code",
   "execution_count": null,
   "metadata": {},
   "outputs": [],
   "source": [
    "# Import any needed functionality\n",
    "import pandas as pd\n",
    "import numpy as np\n",
    "import matplotlib.pyplot as plt\n",
    "import scipy.stats as st\n",
    "import gmaps\n",
    "from IPython.display import Image\n",
    "from scipy.stats import linregress\n",
    "\n",
    "# This will hide any of the small pink messages\n",
    "import warnings\n",
    "warnings.filterwarnings(\"ignore\")\n",
    "\n",
    "# Import API Key from Config\n",
    "from config import g_key"
   ]
  },
  {
   "cell_type": "code",
   "execution_count": null,
   "metadata": {},
   "outputs": [],
   "source": [
    "# Set file path\n",
    "file = (\"UFO_Data/US_UFO_Sightings.csv\")\n",
    "\n",
    "# Read the csv file\n",
    "us_ufo_data = pd.read_csv(file)"
   ]
  },
  {
   "cell_type": "code",
   "execution_count": null,
   "metadata": {},
   "outputs": [],
   "source": [
    "# Display the csv file as a dataframe\n",
    "us_ufo_df = pd.DataFrame(us_ufo_data)\n",
    "us_ufo_df.head()"
   ]
  },
  {
   "cell_type": "code",
   "execution_count": null,
   "metadata": {},
   "outputs": [],
   "source": [
    "# Remove the \"Unnamed: 0\" index row that accidently came through in the cleaned file\n",
    "us_ufo_data = us_ufo_df.drop(columns = [\"Unnamed: 0\"])\n",
    "us_ufo_data.head()"
   ]
  },
  {
   "cell_type": "markdown",
   "metadata": {},
   "source": [
    "## Initial Analysis"
   ]
  },
  {
   "cell_type": "markdown",
   "metadata": {},
   "source": [
    "### Learning more about our dataset"
   ]
  },
  {
   "cell_type": "code",
   "execution_count": null,
   "metadata": {},
   "outputs": [],
   "source": [
    "Image(filename = \"Images/questions.jpg\")"
   ]
  },
  {
   "cell_type": "code",
   "execution_count": null,
   "metadata": {},
   "outputs": [],
   "source": [
    "# What is the shape of our dataframe?\n",
    "# How many sightings are recordered?\n",
    "us_ufo_data.shape"
   ]
  },
  {
   "cell_type": "code",
   "execution_count": null,
   "metadata": {},
   "outputs": [],
   "source": [
    "# What kind of datatypes are we looking at?\n",
    "us_ufo_data.dtypes"
   ]
  },
  {
   "cell_type": "code",
   "execution_count": null,
   "metadata": {},
   "outputs": [],
   "source": [
    "# What is the first year we have a recorded sighting for, and what is the most recent in this dataframe?\n",
    "\n",
    "# Can use a min and max of the date column to find this\n",
    "us_ufo_min_year = us_ufo_data[\"date\"].min()\n",
    "us_ufo_min_year\n",
    "\n",
    "us_ufo_max_year = us_ufo_data[\"date\"].max()\n",
    "us_ufo_max_year\n",
    "\n",
    "print(f\"This dataset ranges from sightings recorded in {us_ufo_min_year} to {us_ufo_max_year}\")"
   ]
  },
  {
   "cell_type": "code",
   "execution_count": null,
   "metadata": {},
   "outputs": [],
   "source": [
    "# What are all of the unique values given for the shape column?\n",
    "\n",
    "# Our group liked to think of this as the aliens car or \"whip\" if you are young and cool\n",
    "alien_whips = us_ufo_data[\"shape\"].unique()\n",
    "alien_whips"
   ]
  },
  {
   "cell_type": "markdown",
   "metadata": {},
   "source": [
    "### Where do aliens like to visit?"
   ]
  },
  {
   "cell_type": "code",
   "execution_count": null,
   "metadata": {},
   "outputs": [],
   "source": [
    "Image(filename = \"Images/map_pin.jpg\")"
   ]
  },
  {
   "cell_type": "code",
   "execution_count": null,
   "metadata": {},
   "outputs": [],
   "source": [
    "# Look at the state data to see which state is most visited\n",
    "\n",
    "# Use a groupby on state\n",
    "state_group = us_ufo_data.groupby(\"state\")\n",
    "state_group\n",
    "\n",
    "# Get the count of each time there was a sighting for that state group to get the count for each state\n",
    "state_visits = state_group[\"time\"].count()\n",
    "state_visits"
   ]
  },
  {
   "cell_type": "code",
   "execution_count": null,
   "metadata": {},
   "outputs": [],
   "source": [
    "# Set up a bar graph to show this information a little more clearly\n",
    "\n",
    "# Get the abbreviations of all of the different states, to be used as the x axis\n",
    "#make the states uppercase\n",
    "states = us_ufo_data[\"state\"].str.upper().unique()\n",
    "states \n"
   ]
  },
  {
   "cell_type": "code",
   "execution_count": null,
   "metadata": {},
   "outputs": [],
   "source": [
    "# Need to read the list alphabetically to match with tick locations with groupby results\n",
    "states_alph = sorted(states)\n",
    "states_alph"
   ]
  },
  {
   "cell_type": "code",
   "execution_count": null,
   "metadata": {},
   "outputs": [],
   "source": [
    "# Generate a bar plot showing the total number of for each state\n",
    "x_axis = np.arange(0, len(states))\n",
    "\n",
    "# Grabs each state abbreviation and stores it for the x tick volume as it goes through the list of states\n",
    "tick_locations = []\n",
    "\n",
    "for x in x_axis:\n",
    "    tick_locations.append(x)\n",
    "\n",
    "\n",
    "# Change the size of the chart to make it more readable\n",
    "plt.figure(figsize = (15, 5))\n",
    "\n",
    "# Plot the bar chart\n",
    "plt.bar(x_axis, state_visits, align = \"center\")\n",
    "plt.xticks(tick_locations, states_alph, rotation = 90)\n",
    "\n",
    "# Add legend\n",
    "plt.legend([\"Visits\"], loc = \"upper center\")\n",
    "\n",
    "# Create labels for the bar plot\n",
    "plt.title(\"Total Documented Sightings per State\")\n",
    "plt.xlabel(\"State\")\n",
    "plt.ylabel(\"Number of Sightings in the State\")\n",
    "\n",
    "# Set limits for the bar chart\n",
    "plt.xlim(-1, len(states_alph) + 0.25)\n",
    "plt.ylim(0, max(state_visits) + 1000)\n",
    "\n",
    "# Best practice to always include plt.show\n",
    "# Even though it is not technically needed in jupyter notebooks\n",
    "plt.show()"
   ]
  },
  {
   "cell_type": "markdown",
   "metadata": {},
   "source": [
    "So far from our analysis we can see that most of the sightings for aliens happen in California, followed by Florida, and then by Washington. This is a good start, but we have a city column in our dataset, so we can look even closer to see where these guys are going!!"
   ]
  },
  {
   "cell_type": "code",
   "execution_count": null,
   "metadata": {},
   "outputs": [],
   "source": [
    "# What city is visited the most regardless of state visits? (Best vacation spot?)\n",
    "\n",
    "# Use groupby on the city this time\n",
    "city_group = us_ufo_data.groupby(\"city\")\n",
    "city_group\n",
    "\n",
    "# Get the count of visits for each city by recording each time there was a sighting\n",
    "city_group_visits = city_group.count()[\"time\"]\n",
    "city_group_visits\n",
    "\n",
    "# Reset the index\n",
    "city_group_visits = city_group_visits.reset_index(\"city\")\n",
    "city_group_visits\n",
    "\n",
    "# The 5 most popular cities for alien sightings in the US\n",
    "# Sort our list descending and display the top 5 results (ascending = False)\n",
    "popular_cities = city_group_visits.sort_values([\"time\"], ascending = False)\n",
    "popular_cities.head(5)"
   ]
  },
  {
   "cell_type": "markdown",
   "metadata": {},
   "source": [
    "Interestingly, despite California being far and above the state with the most sightings, a city in Washington is the most visited! Maybe it is because the original Starbucks is there? Also very interesting, is that despite Florida being the state with the second highest sightings, none of it's cities crack the top 5."
   ]
  },
  {
   "cell_type": "code",
   "execution_count": null,
   "metadata": {},
   "outputs": [],
   "source": [
    "# What are the top cities within the most visited state?\n",
    "\n",
    "# We only want to look at data from california so we will use .loc to get only those values from the state column\n",
    "california = us_ufo_data.loc[us_ufo_data[\"state\"] == \"ca\"]\n",
    "california\n",
    "\n",
    "# This could help determine the best vacation spot for aliens!\n",
    "ca_city_group = california.groupby(\"city\")\n",
    "city_group\n",
    "\n",
    "# Get the count of each time there was a sighting \n",
    "ca_city_group_visits = ca_city_group.count()[\"time\"]\n",
    "city_group_visits\n",
    "\n",
    "# Reset the index\n",
    "ca_city_group_visits = ca_city_group_visits.reset_index(\"city\")\n",
    "ca_city_group_visits\n",
    "\n",
    "\n",
    "# The 5 most popular cities for alien sightings in the California\n",
    "# Sort our list descending and display the top 5 results (ascending = False)\n",
    "popular_ca_cities = ca_city_group_visits.sort_values([\"time\"], ascending = False)\n",
    "print(f\"These are the 5 California cities with most sightings:\")\n",
    "popular_ca_cities.head(5)"
   ]
  },
  {
   "cell_type": "code",
   "execution_count": null,
   "metadata": {},
   "outputs": [],
   "source": [
    "# What are the top cities within Florida?\n",
    "\n",
    "# We only want to look at data from Florida so we will use .loc to get only those values from the state column\n",
    "florida = us_ufo_data.loc[us_ufo_data[\"state\"] == \"fl\"]\n",
    "florida\n",
    "\n",
    "# This could help determine the best vacation spot for aliens!\n",
    "fl_city_group = florida.groupby(\"city\")\n",
    "fl_city_group\n",
    "\n",
    "# Get the count of each time there was a sighting \n",
    "fl_city_group_visits = fl_city_group.count()[\"time\"]\n",
    "city_group_visits\n",
    "\n",
    "# Reset the index\n",
    "fl_city_group_visits = fl_city_group_visits.reset_index(\"city\")\n",
    "fl_city_group_visits\n",
    "\n",
    "\n",
    "# The 5 most popular cities for alien sightings in the Florida\n",
    "# Sort our list descending and display the top 5 results (ascending = False)\n",
    "popular_fl_cities = fl_city_group_visits.sort_values([\"time\"], ascending = False)\n",
    "print(f\"These are the 5 Florida cities with most sightings:\")\n",
    "popular_fl_cities.head(5)"
   ]
  },
  {
   "cell_type": "code",
   "execution_count": null,
   "metadata": {},
   "outputs": [],
   "source": [
    "# What are the top cities within Washington?\n",
    "\n",
    "# We only want to look at data from Washington so we will use .loc to get only those values from the state column\n",
    "washington = us_ufo_data.loc[us_ufo_data[\"state\"] == \"wa\"]\n",
    "washington\n",
    "\n",
    "# This could help determine the best vacation spot for aliens!\n",
    "wa_city_group = washington.groupby(\"city\")\n",
    "wa_city_group\n",
    "\n",
    "# Get the count of each time there was a sighting \n",
    "wa_city_group_visits = wa_city_group.count()[\"time\"]\n",
    "city_group_visits\n",
    "\n",
    "# Reset the index\n",
    "wa_city_group_visits = wa_city_group_visits.reset_index(\"city\")\n",
    "wa_city_group_visits\n",
    "\n",
    "\n",
    "# The 5 most popular cities for alien sightings in the Washington\n",
    "# Sort our list descending and display the top 5 results (ascending = False)\n",
    "popular_wa_cities = wa_city_group_visits.sort_values([\"time\"], ascending = False)\n",
    "print(f\"These are the 5 Washington cities with most sightings:\")\n",
    "popular_wa_cities.head(5)"
   ]
  },
  {
   "cell_type": "markdown",
   "metadata": {},
   "source": [
    "# Need help here!!"
   ]
  },
  {
   "cell_type": "markdown",
   "metadata": {},
   "source": [
    "# We need a value for the weight of each, I have been trying to put the count per state as a new \"visits per state\" column but I can't get it to read the state from the state column and append the sightings in that state to each row. There has to be a column with a numerical range that can be set to weight otherwise the map won't populate"
   ]
  },
  {
   "cell_type": "markdown",
   "metadata": {},
   "source": [
    "# Maybe cities is better than state? Might be a TA question I cannot figure this out"
   ]
  },
  {
   "cell_type": "code",
   "execution_count": null,
   "metadata": {},
   "outputs": [],
   "source": [
    "# US Heatmap for alien visits over the years\n",
    "# Configure gmaps\n",
    "gmaps.configure(api_key = g_key)\n",
    "\n",
    "# Use the latitude and longitude columns as the locations variable\n",
    "\n",
    "## JUST SO THE TEAM KNOWS THERE IS A SPACE AFTER \"longitude \" FOR THE COLUMN SO YOU HAVE TO PUT THE SPACE IN WHEN CALLING IT\n",
    "locations = us_ufo_data[[\"latitude\", \"longitude \"]]\n",
    "\n",
    "# Use the state visits as the weight variable???\n",
    "\n",
    "\n",
    "# MIGHT HAVE TO MAKE A NEW ONE FOR CITY COUNTS IDK??\n",
    "us_ufo_data[\"visits\"] = 5\n",
    "us_ufo_data\n",
    "#locations.count()"
   ]
  },
  {
   "cell_type": "code",
   "execution_count": null,
   "metadata": {},
   "outputs": [],
   "source": [
    "### I DONT THINK WE NEED THIS\n",
    "\n",
    "#state_value = us_ufo_data[\"state\"]\n",
    "\n",
    "# for x in state_value:\n",
    "#     print(x)\n",
    "#     if x == state_visits.get_group(\"states\")[\"time\"]:\n",
    "#          print(\"match1\")\n",
    "#          us_ufo_data[\"visits per state\"] = state_visits[\"time\"]\n",
    "                   \n",
    "#us_ufo_data"
   ]
  },
  {
   "cell_type": "code",
   "execution_count": null,
   "metadata": {},
   "outputs": [],
   "source": [
    "#state_visits[\"state\"][2]"
   ]
  },
  {
   "cell_type": "code",
   "execution_count": null,
   "metadata": {},
   "outputs": [],
   "source": [
    "# Generate the map\n",
    "# From class discussion, it is important to set a center, and a zoom level to help make the map display properly\n",
    "# Got the center and zoom_level values through trial and error\n",
    "fig = gmaps.figure(center=(41, -87), zoom_level = 3.8)\n",
    "\n",
    "# Generate a new layer on the map - Heat layer\n",
    "heat_layer = gmaps.heatmap_layer(locations, weights = us_ufo_data[\"visits\"],\n",
    "                                 dissipating = False, max_intensity = 100,\n",
    "                                 point_radius = .3)\n",
    "\n",
    "# Add layer\n",
    "fig.add_layer(heat_layer)\n",
    "\n",
    "# Display figure\n",
    "fig"
   ]
  },
  {
   "cell_type": "markdown",
   "metadata": {},
   "source": [
    "### What are they drivings??"
   ]
  },
  {
   "cell_type": "code",
   "execution_count": null,
   "metadata": {},
   "outputs": [],
   "source": [
    "Image(filename = \"Images/space_tesla.jpg\")"
   ]
  },
  {
   "cell_type": "code",
   "execution_count": null,
   "metadata": {},
   "outputs": [],
   "source": [
    "# We will look at the shapes recorded for each sighting to determine what the aliens are driving?\n",
    "alien_cars = us_ufo_data.groupby(\"shape\")\n",
    "alien_cars\n",
    "\n",
    "# Get the count of each time there was a sighting \n",
    "shape_count = alien_cars.count()[\"time\"]\n",
    "shape_count\n",
    "\n",
    "# Reset the index\n",
    "alien_fav_whip = shape_count.reset_index()\n",
    "alien_fav_whip\n",
    "\n",
    "alien_fav_whip = alien_fav_whip.sort_values([\"time\"], ascending = False)\n",
    "alien_fav_whip"
   ]
  },
  {
   "cell_type": "code",
   "execution_count": null,
   "metadata": {},
   "outputs": [],
   "source": [
    "# Let's find the most popular UFO shapes and work with just those\n",
    "# The top shapes will be the ones that have been spotted at least 2000 times\n",
    "top_alien_fav_whips = alien_fav_whip.loc[alien_fav_whip[\"time\"] > 2000]\n",
    "top_alien_fav_whips"
   ]
  },
  {
   "cell_type": "markdown",
   "metadata": {},
   "source": [
    "# Not sure if we should use the pie chart or the horizontal bar for this? Since we are not looking at 100% with the top shapes, maybe the bar is better?"
   ]
  },
  {
   "cell_type": "code",
   "execution_count": null,
   "metadata": {},
   "outputs": [],
   "source": [
    "# # Generate a pie plot showing the distribution of visits across the states\n",
    "# # Labels for the sections of our pie chart\n",
    "labels = top_alien_fav_whips[\"shape\"] \n",
    "sizes = top_alien_fav_whips[\"time\"]\n",
    "\n",
    "plt.figure(figsize = (35, 7))\n",
    "\n",
    "\n",
    "# # Tell matplotlib to create a pie chart filled with corresponding percentages and displayed vertically\n",
    "plt.pie(sizes, labels = labels, autopct=\"%1.1f%%\", startangle=120)\n",
    "plt.title(\"What is the Toyota Camry of UFO's?\")\n",
    "plt.legend(labels, loc = \"best\", bbox_to_anchor=(-0.1, 1.)) \n",
    "\n",
    "# # Display resulting plot\n",
    "#plt.axis(\"equal\")\n",
    "#plt.tight_layout()\n",
    "plt.show()"
   ]
  },
  {
   "cell_type": "code",
   "execution_count": null,
   "metadata": {},
   "outputs": [],
   "source": [
    "plt.rcdefaults()\n",
    "fig, ax = plt.subplots()\n",
    "\n",
    "# Example data\n",
    "shapes = top_alien_fav_whips[\"shape\"]\n",
    "y_pos = np.arange(len(shapes))\n",
    "times_seen = top_alien_fav_whips[\"time\"]\n",
    "#error = np.random.rand(len(people))\n",
    "\n",
    "ax.barh(y_pos, times_seen, align='center')\n",
    "ax.set_yticks(y_pos)\n",
    "ax.set_yticklabels(shapes)\n",
    "ax.invert_yaxis()  # labels read top-to-bottom\n",
    "ax.set_xlabel(\"Number of times seen\")\n",
    "ax.set_title(\"What is the Toyota Camry of UFO's\")\n",
    "\n",
    "plt.show()"
   ]
  },
  {
   "cell_type": "markdown",
   "metadata": {},
   "source": [
    "So maybe the aliens aren't driving around Tesla's.... yet. It seems like they travel in style, or at least with their headlights on as 'light' is the number one descriptor for UFO sightings with nearly twice as many as the next closest, the ever frightening 'triangle'"
   ]
  },
  {
   "cell_type": "markdown",
   "metadata": {},
   "source": [
    "### Best time for cow abduction?"
   ]
  },
  {
   "cell_type": "code",
   "execution_count": null,
   "metadata": {},
   "outputs": [],
   "source": [
    "Image(filename = \"Images/cow.jpg\")"
   ]
  },
  {
   "cell_type": "code",
   "execution_count": null,
   "metadata": {},
   "outputs": [],
   "source": [
    "us_ufo_data.head()"
   ]
  },
  {
   "cell_type": "code",
   "execution_count": null,
   "metadata": {},
   "outputs": [],
   "source": [
    "us_ufo_data.dtypes"
   ]
  },
  {
   "cell_type": "code",
   "execution_count": null,
   "metadata": {},
   "outputs": [],
   "source": [
    "# First we want to create a new column that takes the time and buckets it into one hour segments\n",
    "us_ufo_data[\"hour\"] = np.floor(us_ufo_data[\"time\"].str.replace(\":\", \"\").astype(\"int\") / 100)\n",
    "\n",
    "# This makes the \"24\" hour value and combines with the 0 hour value (midnight)\n",
    "# It is dividing by 24 and putting the remainder together (like fizbuzz!)\n",
    "#us_ufo_data[\"hour\"].max()\n",
    "us_ufo_data[\"hour\"] %= 24 \n",
    "\n",
    "us_ufo_data.head()"
   ]
  },
  {
   "cell_type": "code",
   "execution_count": null,
   "metadata": {},
   "outputs": [],
   "source": [
    "# We will look at the hour recorded for each sighting to determine peak times of alien sightings (cow abductions!!)\n",
    "time_group = us_ufo_data.groupby(\"hour\")\n",
    "\n",
    "# Get the list of hours (in military time)\n",
    "times_of_day = us_ufo_data[\"hour\"].unique()\n",
    "times_of_day.sort()\n",
    "\n",
    "# Get the count of visits by seeing how many times each hour is recorded\n",
    "num_visits = time_group[\"hour\"].count()\n",
    "num_visits"
   ]
  },
  {
   "cell_type": "code",
   "execution_count": null,
   "metadata": {},
   "outputs": [],
   "source": [
    "# Plot the time of sightings data with a scatter plot\n",
    "\n",
    "# Update the figure size so that it will be easily readable\n",
    "plt.figure(figsize = (15, 5))\n",
    "\n",
    "# Scatter plot to see if the time of day has any correlation with total number of visits\n",
    "# time of day is our x axis and the number of visits (sightings) is our y\n",
    "plt.scatter(times_of_day, num_visits)\n",
    "\n",
    "# Arrange tick labels\n",
    "plt.xticks(np.arange(0, 24, 1))\n",
    "\n",
    "# Set the title and x and y labels of the plot\n",
    "plt.title(\"Number of Sightings at Time of Day\")\n",
    "plt.xlabel(\"Time of day\")\n",
    "plt.ylabel(\"Number of sightings\")\n",
    "plt.grid()\n",
    "\n",
    "# Best practice to use plt.show()\n",
    "plt.show()"
   ]
  },
  {
   "cell_type": "markdown",
   "metadata": {},
   "source": [
    "Here we can see that most recorded sightings of UFO's occur during the evening and night hours. This would make sense as it is darker and probably easier to see their space ships at night than during the day."
   ]
  },
  {
   "cell_type": "markdown",
   "metadata": {},
   "source": [
    "### Do they keep coming back?"
   ]
  },
  {
   "cell_type": "code",
   "execution_count": null,
   "metadata": {},
   "outputs": [],
   "source": [
    "Image(filename = \"Images/old_ufo.jpg\")"
   ]
  },
  {
   "cell_type": "code",
   "execution_count": null,
   "metadata": {},
   "outputs": [],
   "source": [
    "# Over the years are the number of sightings increasing or decreasing in any pattern or rate?\n",
    "\n",
    "# Same as in the previous chart, we will need to split out the date column information and solo in on the year\n",
    "calendar = us_ufo_data[\"date\"].str.split(\"/\", n = 2, expand = True)\n",
    "us_ufo_data[\"day\"] = calendar[0]\n",
    "us_ufo_data[\"month\"] = calendar[1]\n",
    "us_ufo_data[\"year\"] = calendar[2]\n",
    "\n",
    "us_ufo_data.head()"
   ]
  },
  {
   "cell_type": "code",
   "execution_count": null,
   "metadata": {},
   "outputs": [],
   "source": [
    "# We will look at the year recorded for each sighting\n",
    "year_group = us_ufo_data.groupby(\"year\")\n",
    "\n",
    "# Get the years recorded\n",
    "years = us_ufo_data[\"year\"].unique()\n",
    "years.sort()\n",
    "\n",
    "# Get the count of each time there is a UFO sighting that year\n",
    "visits_per_year = year_group[\"year\"].count()\n",
    "visits_per_year\n"
   ]
  },
  {
   "cell_type": "code",
   "execution_count": null,
   "metadata": {},
   "outputs": [],
   "source": [
    "total_visits = pd.DataFrame({\"years\": years,\n",
    "                \"visits\": visits_per_year})\n",
    "total_visits.reset_index(drop=True, inplace=True)\n",
    "total_visits\n",
    "\n"
   ]
  },
  {
   "cell_type": "code",
   "execution_count": null,
   "metadata": {},
   "outputs": [],
   "source": [
    "#change the str to float so we can do a regression test\n",
    "total_visits['visits']= pd.to_numeric(total_visits['visits'], downcast=\"float\")\n",
    "total_visits"
   ]
  },
  {
   "cell_type": "code",
   "execution_count": null,
   "metadata": {},
   "outputs": [],
   "source": [
    "# Use the iloc to find the data for 1992 to current \n",
    "#total_visits.iloc[60]"
   ]
  },
  {
   "cell_type": "code",
   "execution_count": null,
   "metadata": {},
   "outputs": [],
   "source": [
    "#make a df of the recent ufo data\n",
    "recent_visitis = total_visits.iloc[60:]\n",
    "recent_visitis"
   ]
  },
  {
   "cell_type": "code",
   "execution_count": null,
   "metadata": {},
   "outputs": [],
   "source": [
    "# Plot the time of sightings data with a line chart\n",
    "\n",
    "# Update the figure size so that it will be easily readable\n",
    "plt.figure(figsize = (15, 5))\n",
    "\n",
    "# Line chart to see if the sightings over the years in the US has an pattern\n",
    "# years is our x axis and visits per year is our y axis\n",
    "plt.plot(years, visits_per_year, marker = \"^\")\n",
    "\n",
    "# Arrange tick labels\n",
    "plt.xticks(np.arange(0, 84, 10))\n",
    "\n",
    "# Set the title and x and y labels of the plot\n",
    "plt.title(\"Number of Visits per year\")\n",
    "plt.xlabel(\"Year\")\n",
    "plt.ylabel(\"Number of sightings\")\n",
    "\n",
    "# Best practice to use plt.show()\n",
    "plt.show()"
   ]
  },
  {
   "cell_type": "markdown",
   "metadata": {},
   "source": [
    "As we can see in the line chart above, there have been an exponential increase in UFO sightings since the mid 90's. I wonder if there were any event around this time that would have caused people to look up at the sky more often?"
   ]
  },
  {
   "cell_type": "markdown",
   "metadata": {},
   "source": [
    "### Noah Code Ends here"
   ]
  },
  {
   "cell_type": "markdown",
   "metadata": {},
   "source": [
    "## Deeper Analysis\n",
    "### Mahnoor Code Starts here"
   ]
  },
  {
   "cell_type": "markdown",
   "metadata": {},
   "source": [
    "### Regression or hypothesis testing"
   ]
  },
  {
   "cell_type": "code",
   "execution_count": null,
   "metadata": {},
   "outputs": [],
   "source": [
    "#total ufo visitis in the last decade\n",
    "x_values = total_visits['years'].astype(float)\n",
    "y_values = total_visits['visits']\n",
    "\n",
    "correlation = st.pearsonr(x_values,y_values)\n",
    "\n",
    "# Print the answer to above calculation\n",
    "print(f\"\"\"The correlation between weight and average tumor volume\n",
    "on the Capomulin regimen is {round(correlation[0],2)}.\"\"\")\n",
    "\n",
    "(slope, intercept, rvalue, pvalue, stderr) = linregress(x_values, y_values)\n",
    "regress_values = x_values * slope + intercept\n",
    "\n",
    "#calculate linear regression \n",
    "(slope, intercept, rvalue, pvalue, stderr) = linregress(x_values, y_values)\n",
    "regress_values = x_values * slope + intercept\n",
    "\n",
    "line_eq = \"y = \" + str(round(slope,2)) + \"x + \" + str(round(intercept,2))\n",
    "\n",
    "print(line_eq)"
   ]
  },
  {
   "cell_type": "code",
   "execution_count": null,
   "metadata": {},
   "outputs": [],
   "source": [
    "# Add labels and title to plot\n",
    "fig1, ax1 = plt.subplots(figsize=(10, 8))\n",
    "plt.scatter(x_values,y_values,s=75, color=\"green\")\n",
    "plt.plot(x_values,regress_values,\"r-\")\n",
    "plt.title('UFO sighings in the last decade',fontsize =12)\n",
    "plt.xlabel('Years',fontsize =14)\n",
    "plt.ylabel('UFO Sighings',fontsize =10)\n",
    "\n",
    "# Annotate linear regression\n",
    "ax1.annotate(line_eq, xy=(2010, 1995), xycoords='data',xytext=(0.5, 0.8),\n",
    "             textcoords='axes fraction',horizontalalignment='right',\n",
    "             verticalalignment='top',fontsize=10,color=\"green\")\n",
    "\n",
    "print(f\"The r-squared is: {rvalue**2}\")\n",
    "\n",
    "#plt.savefig(\"../Images/ufo_decade.png\", bbox_inches = \"tight\")\n",
    "\n",
    "plt.show()"
   ]
  },
  {
   "cell_type": "code",
   "execution_count": null,
   "metadata": {},
   "outputs": [],
   "source": [
    "#recent UFO visitis in the last 30yaers\n",
    "x_values = recent_visitis['years'].astype(float)\n",
    "y_values = recent_visitis['visits']\n",
    "\n",
    "correlation = st.pearsonr(x_values,y_values)\n",
    "\n",
    "# Print the answer to above calculation\n",
    "print(f\"\"\"The correlation between UFO sighing over the years\n",
    "on the Capomulin regimen is {round(correlation[0],2)}.\"\"\")\n",
    "\n",
    "(slope, intercept, rvalue, pvalue, stderr) = linregress(x_values, y_values)\n",
    "regress_values = x_values * slope + intercept\n",
    "\n",
    "#calculate linear regression \n",
    "(slope, intercept, rvalue, pvalue, stderr) = linregress(x_values, y_values)\n",
    "regress_values = x_values * slope + intercept\n",
    "\n",
    "line_eq = \"y = \" + str(round(slope,2)) + \"x + \" + str(round(intercept,2))\n",
    "\n",
    "print(line_eq)\n"
   ]
  },
  {
   "cell_type": "code",
   "execution_count": null,
   "metadata": {},
   "outputs": [],
   "source": [
    "#we can change the year value to get the prediton of the years we want based on that data we have.\n",
    "prediction = slope * 2015 + intercept\n",
    "prediction"
   ]
  },
  {
   "cell_type": "code",
   "execution_count": null,
   "metadata": {},
   "outputs": [],
   "source": [
    "# Add labels and title to plot\n",
    "fig1, ax1 = plt.subplots(figsize=(10, 8))\n",
    "plt.scatter(x_values,y_values,s=75, color=\"green\")\n",
    "plt.plot(x_values,regress_values,\"r-\")\n",
    "plt.title('UFO Sighings 1992 to 2014',fontsize =12)\n",
    "plt.xlabel('Years',fontsize =14)\n",
    "plt.ylabel('UFO Sighings',fontsize =10)\n",
    "\n",
    "# Annotate linear regression\n",
    "ax1.annotate(line_eq, xy=(2010, 1000), xycoords='data',xytext=(0.5, 0.8),\n",
    "             textcoords='axes fraction',horizontalalignment='right',\n",
    "             verticalalignment='top',fontsize=10,color=\"green\")\n",
    "\n",
    "print(f\"The r-squared is: {rvalue**2}\")\n",
    "\n",
    "#plt.savefig(\"../Images/ufo_1992_2015.png\", bbox_inches = \"tight\")\n",
    "\n",
    "plt.show()"
   ]
  },
  {
   "cell_type": "code",
   "execution_count": null,
   "metadata": {},
   "outputs": [],
   "source": [
    "# Regression possibilities\n",
    "\n",
    "#    Can we predict the number of total sightings for 2013?\n",
    "    \n",
    "#    What city will have the highest visits in 2013?\n",
    "#    Can we predict what region an alien is most likely to visit on their next vacation to earth?"
   ]
  },
  {
   "cell_type": "code",
   "execution_count": null,
   "metadata": {},
   "outputs": [],
   "source": [
    "# Hypothesis testing possibilities (if we had more time we could do this part, but for now we to skip :( \n",
    "\n",
    "#    We believe that aliens prefer to visit at night, and that sightings will most likely happen between 10pm and 2am\n",
    "#    We think us excitement around aliens peaks around halloween, so the majority of sightings will be in the fall (Sept - Nov)\n",
    "#    We believe the midwest, not the southwest (area 51) will have the most sightings (More cows to abduct!!)\n",
    "#    Is area 51 (Nevada and surrounding area) truly the hub of all recorded alien activity??"
   ]
  },
  {
   "cell_type": "code",
   "execution_count": null,
   "metadata": {},
   "outputs": [],
   "source": [
    "## We could potentially look at the 2016 csv we almost used to see how accurate our predictions were??\n",
    "## Idk if that would be a stretch or like bad to compare (apples to oranges?)"
   ]
  },
  {
   "cell_type": "markdown",
   "metadata": {},
   "source": [
    "### Mahnoor Code Ends here"
   ]
  },
  {
   "cell_type": "code",
   "execution_count": null,
   "metadata": {},
   "outputs": [],
   "source": []
  }
 ],
 "metadata": {
  "anaconda-cloud": {},
  "kernel_info": {
   "name": "python3"
  },
  "kernelspec": {
   "display_name": "Python 3",
   "language": "python",
   "name": "python3"
  },
  "language_info": {
   "codemirror_mode": {
    "name": "ipython",
    "version": 3
   },
   "file_extension": ".py",
   "mimetype": "text/x-python",
   "name": "python",
   "nbconvert_exporter": "python",
   "pygments_lexer": "ipython3",
   "version": "3.6.10"
  },
  "latex_envs": {
   "LaTeX_envs_menu_present": true,
   "autoclose": false,
   "autocomplete": true,
   "bibliofile": "biblio.bib",
   "cite_by": "apalike",
   "current_citInitial": 1,
   "eqLabelWithNumbers": true,
   "eqNumInitial": 1,
   "hotkeys": {
    "equation": "Ctrl-E",
    "itemize": "Ctrl-I"
   },
   "labels_anchors": false,
   "latex_user_defs": false,
   "report_style_numbering": false,
   "user_envs_cfg": false
  },
  "nteract": {
   "version": "0.2.0"
  }
 },
 "nbformat": 4,
 "nbformat_minor": 2
}
