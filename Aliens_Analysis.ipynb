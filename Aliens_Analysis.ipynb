{
 "cells": [
  {
   "cell_type": "markdown",
   "metadata": {},
   "source": [
    "# UFO Sightings Analysis"
   ]
  },
  {
   "cell_type": "markdown",
   "metadata": {},
   "source": [
    "## Load the CSV file\n",
    "### Noah Code Starts here"
   ]
  },
  {
   "cell_type": "code",
   "execution_count": null,
   "metadata": {},
   "outputs": [],
   "source": [
    "# Import any needed functionality\n",
    "import pandas as pd\n",
    "import numpy as np\n",
    "import matplotlib.pyplot as plt\n",
    "import scipy.stats as st\n",
    "#import gmaps\n",
    "\n",
    "# This will hide any of the small pink messages\n",
    "import warnings\n",
    "warnings.filterwarnings(\"ignore\")\n",
    "\n",
    "# Import API Key\n",
    "#from config import g_key"
   ]
  },
  {
   "cell_type": "code",
   "execution_count": null,
   "metadata": {},
   "outputs": [],
   "source": [
    "# Set file path\n",
    "file = (\"UFO_Data/US_UFO_Sightings.csv\")\n",
    "\n",
    "# Read the csv file\n",
    "us_ufo_data = pd.read_csv(file)"
   ]
  },
  {
   "cell_type": "code",
   "execution_count": null,
   "metadata": {},
   "outputs": [],
   "source": [
    "# Display the csv file as a dataframe\n",
    "us_ufo_df = pd.DataFrame(us_ufo_data)\n",
    "us_ufo_df.head()"
   ]
  },
  {
   "cell_type": "code",
   "execution_count": null,
   "metadata": {},
   "outputs": [],
   "source": [
    "# Remove the \"Unnamed: 0\" index row that accidently came through in the cleaned file\n",
    "us_ufo_data = us_ufo_df.drop(columns = [\"Unnamed: 0\"])\n",
    "us_ufo_data.head()"
   ]
  },
  {
   "cell_type": "markdown",
   "metadata": {},
   "source": [
    "## Initial Analysis"
   ]
  },
  {
   "cell_type": "markdown",
   "metadata": {},
   "source": [
    "### Learning more about our data"
   ]
  },
  {
   "cell_type": "code",
   "execution_count": null,
   "metadata": {},
   "outputs": [],
   "source": [
    "# Find the length of the dataframe?\n",
    "# How many sightings are recordered?\n",
    "print(len(us_ufo_data))"
   ]
  },
  {
   "cell_type": "code",
   "execution_count": null,
   "metadata": {},
   "outputs": [],
   "source": [
    "# What is the min and max range for the years?\n",
    "us_ufo_min_year = us_ufo_data[\"date\"].min()\n",
    "us_ufo_min_year\n",
    "\n",
    "us_ufo_max_year = us_ufo_data[\"date\"].max()\n",
    "us_ufo_max_year\n",
    "\n",
    "print(f\"This dataset ranges from sightings recorded in {us_ufo_min_year} to {us_ufo_max_year}\")"
   ]
  },
  {
   "cell_type": "code",
   "execution_count": null,
   "metadata": {},
   "outputs": [],
   "source": [
    "# What are all of the unique values given for the shape column?\n",
    "alien_cars = us_ufo_data[\"shape\"].unique()\n",
    "alien_cars"
   ]
  },
  {
   "cell_type": "markdown",
   "metadata": {},
   "source": [
    "### Where do aliens like to visit?"
   ]
  },
  {
   "cell_type": "code",
   "execution_count": null,
   "metadata": {},
   "outputs": [],
   "source": [
    "# Look at the state data to see which state is most visited\n",
    "# Use a groupby to get the count\n",
    "state_group = us_ufo_data.groupby(\"state\")\n",
    "state_group\n",
    "\n",
    "state_visits = state_group[\"time\"].count()\n",
    "#state_visits"
   ]
  },
  {
   "cell_type": "code",
   "execution_count": null,
   "metadata": {},
   "outputs": [],
   "source": [
    "# Get the names of all of the different drug regimens to be used in the x axis\n",
    "states = us_ufo_data[\"state\"].unique()\n",
    "\n",
    "# Need to read the list alphabetically to match with tick locations\n",
    "states_alph = sorted(states)\n",
    "#states_alph"
   ]
  },
  {
   "cell_type": "code",
   "execution_count": null,
   "metadata": {},
   "outputs": [],
   "source": [
    "# Generate a bar plot showing the total number of measurements taken on each drug regimen using pyplot.\n",
    "x_axis = np.arange(0, len(states))\n",
    "\n",
    "tick_locations = []\n",
    "\n",
    "for x in x_axis:\n",
    "    tick_locations.append(x)\n",
    "\n",
    "\n",
    "# Change the size of the chart to make it more readable\n",
    "plt.figure(figsize = (15, 5))\n",
    "\n",
    "# Plot the bar chart\n",
    "plt.bar(x_axis, state_visits, align = \"center\")\n",
    "plt.xticks(tick_locations, states_alph, rotation = 90)\n",
    "\n",
    "# Add legend to match above chart visually\n",
    "plt.legend([\"Visits\"], loc = \"upper center\")\n",
    "\n",
    "# Create labels for the bar plot\n",
    "plt.title(\"Total Documented Sightings per State\")\n",
    "plt.xlabel(\"State\")\n",
    "plt.ylabel(\"Number of Sightings in the State\")\n",
    "\n",
    "# Set limits for each chart\n",
    "plt.xlim(-1, len(states_alph) + 0.5)\n",
    "plt.ylim(0, max(state_visits) + 1000)\n",
    "\n",
    "# Best practice to always include plt.show\n",
    "# Even though it is not technically needed in jupyter notebooks\n",
    "plt.show()"
   ]
  },
  {
   "cell_type": "code",
   "execution_count": null,
   "metadata": {},
   "outputs": [],
   "source": [
    "# Generate a pie plot showing the distribution of visits across the states\n",
    "# Labels for the sections of our pie chart\n",
    "labels = states\n",
    "\n",
    "\n",
    "plt.figure(figsize = (35, 7))\n",
    "\n",
    "\n",
    "# Tell matplotlib to create a pie chart filled with corresponding percentages and displayed vertically\n",
    "plt.pie(state_visits, labels = state_visits.index.values, autopct=\"%1.1f%%\", startangle=90)\n",
    "plt.title(\"Distribution of UFO Sightings for each state\")\n",
    "\n",
    "# Display resulting plot\n",
    "plt.tight_layout()\n",
    "plt.show()"
   ]
  },
  {
   "cell_type": "code",
   "execution_count": null,
   "metadata": {},
   "outputs": [],
   "source": [
    "# What city within the most visited state?\n",
    "\n",
    "# What city is visited the most regardless of state visits? (Better vacation spot?)"
   ]
  },
  {
   "cell_type": "code",
   "execution_count": null,
   "metadata": {},
   "outputs": [],
   "source": [
    "# US Heatmap for alien visits over the years\n",
    "# Configure gmaps\n",
    "gmaps.configure(api_key = g_key)\n",
    "\n",
    "# Use the lat and lng columns as the locations variable\n",
    "locations = us_ufo_data[[\"Latitude\", \"Longitude\"]]\n",
    "\n",
    "# Use the state visits as the weight variable\n",
    "# MIGHT HAVE TO MAKE A NEW ONE FOR CITY COUNTS IDK??\n",
    "state_visits"
   ]
  },
  {
   "cell_type": "code",
   "execution_count": null,
   "metadata": {},
   "outputs": [],
   "source": [
    "# Generate the map\n",
    "# From class discussion, it is important to set a center, and a zoom level to help make the map display properly\n",
    "# Got the center and zoom_level values through trial and error\n",
    "fig = gmaps.figure(center=(25.0, 15.0), zoom_level = 1.8)\n",
    "\n",
    "# Generate a new layer on the map - Heat layer\n",
    "heat_layer = gmaps.heatmap_layer(locations, weights = state_visits,\n",
    "                                 dissipating = False, max_intensity = 100,\n",
    "                                 point_radius = 3)\n",
    "\n",
    "# Add layer\n",
    "fig.add_layer(heat_layer)\n",
    "\n",
    "# Display figure\n",
    "fig"
   ]
  },
  {
   "cell_type": "markdown",
   "metadata": {},
   "source": [
    "### What season do aliens like to vacation to earth?"
   ]
  },
  {
   "cell_type": "code",
   "execution_count": null,
   "metadata": {},
   "outputs": [],
   "source": [
    "# Create a new column that seperates the months into seasons\n",
    "# See which season has the most visits"
   ]
  },
  {
   "cell_type": "markdown",
   "metadata": {},
   "source": [
    "### Best time for cow abduction?"
   ]
  },
  {
   "cell_type": "code",
   "execution_count": null,
   "metadata": {},
   "outputs": [],
   "source": [
    "# Scatter plot to see if the time of day has any correlation with total number of visits"
   ]
  },
  {
   "cell_type": "markdown",
   "metadata": {},
   "source": [
    "### Do they keep coming back?"
   ]
  },
  {
   "cell_type": "code",
   "execution_count": null,
   "metadata": {},
   "outputs": [],
   "source": [
    "# See if the total number of sightings per yer has changed?\n",
    "# Scatter plot - DO WE NEED TO PULL YEAR TO ITS OWN COLUMN??"
   ]
  },
  {
   "cell_type": "markdown",
   "metadata": {},
   "source": [
    "### Noah Code Ends here"
   ]
  },
  {
   "cell_type": "markdown",
   "metadata": {},
   "source": [
    "## Deeper Analysis\n",
    "### Mahnoor Code Starts here"
   ]
  },
  {
   "cell_type": "markdown",
   "metadata": {},
   "source": [
    "### Regression or hypothesis testing"
   ]
  },
  {
   "cell_type": "code",
   "execution_count": null,
   "metadata": {},
   "outputs": [],
   "source": [
    "# Regression possibilities\n",
    "\n",
    "#    Can we predict the number of total sightings for 2016?\n",
    "#    What city will have the highest visits in 2016?\n",
    "#    Can we predict what region an alien is most likely to visit on their next vacation to earth?"
   ]
  },
  {
   "cell_type": "code",
   "execution_count": null,
   "metadata": {},
   "outputs": [],
   "source": [
    "# Hypothesis testing possibilities\n",
    "\n",
    "#    We believe that aliens prefer to visit at night, and that sightings will most likely happen between 10pm and 2am\n",
    "#    We think us excitement around aliens peaks around halloween, so the majority of sightings will be in the fall (Sept - Nov)\n",
    "#    We believe the midwest, not the southwest (area 51) will have the most sightings (More cows to abduct!!)\n",
    "#    Is area 51 (Nevada and surrounding area) turly the hub of all recorded alien activity??"
   ]
  },
  {
   "cell_type": "code",
   "execution_count": null,
   "metadata": {},
   "outputs": [],
   "source": [
    "## We could potentially look at the 2016 csv we almost used to see how accurate our predictions were??\n",
    "## Idk if that would be a stretch or like bad to compare (apples to oranges?)"
   ]
  },
  {
   "cell_type": "markdown",
   "metadata": {},
   "source": [
    "### Mahnoor Code Ends here"
   ]
  },
  {
   "cell_type": "code",
   "execution_count": null,
   "metadata": {},
   "outputs": [],
   "source": []
  }
 ],
 "metadata": {
  "anaconda-cloud": {},
  "kernel_info": {
   "name": "python3"
  },
  "kernelspec": {
   "display_name": "Python 3",
   "language": "python",
   "name": "python3"
  },
  "language_info": {
   "codemirror_mode": {
    "name": "ipython",
    "version": 3
   },
   "file_extension": ".py",
   "mimetype": "text/x-python",
   "name": "python",
   "nbconvert_exporter": "python",
   "pygments_lexer": "ipython3",
   "version": "3.6.10"
  },
  "latex_envs": {
   "LaTeX_envs_menu_present": true,
   "autoclose": false,
   "autocomplete": true,
   "bibliofile": "biblio.bib",
   "cite_by": "apalike",
   "current_citInitial": 1,
   "eqLabelWithNumbers": true,
   "eqNumInitial": 1,
   "hotkeys": {
    "equation": "Ctrl-E",
    "itemize": "Ctrl-I"
   },
   "labels_anchors": false,
   "latex_user_defs": false,
   "report_style_numbering": false,
   "user_envs_cfg": false
  },
  "nteract": {
   "version": "0.2.0"
  }
 },
 "nbformat": 4,
 "nbformat_minor": 2
}
