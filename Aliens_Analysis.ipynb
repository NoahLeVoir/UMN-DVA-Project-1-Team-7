{
 "cells": [
  {
   "cell_type": "markdown",
   "metadata": {},
   "source": [
    "# UFO Sightings Analysis"
   ]
  },
  {
   "cell_type": "markdown",
   "metadata": {},
   "source": [
    "## Load the CSV file\n",
    "### Noah Code Starts here"
   ]
  },
  {
   "cell_type": "code",
   "execution_count": 1,
   "metadata": {},
   "outputs": [],
   "source": [
    "# Import any needed functionality\n",
    "import pandas as pd\n",
    "import numpy as np\n",
    "import matplotlib.pyplot as plt\n",
    "import scipy.stats as st\n",
    "#import gmaps\n",
    "import datetime\n",
    "\n",
    "# This will hide any of the small pink messages\n",
    "import warnings\n",
    "warnings.filterwarnings(\"ignore\")\n",
    "\n",
    "# Import API Key\n",
    "#from config import g_key"
   ]
  },
  {
   "cell_type": "code",
   "execution_count": 2,
   "metadata": {},
   "outputs": [],
   "source": [
    "# Set file path\n",
    "file = (\"UFO_Data/US_UFO_Sightings.csv\")\n",
    "\n",
    "# Read the csv file\n",
    "us_ufo_data = pd.read_csv(file)"
   ]
  },
  {
   "cell_type": "code",
   "execution_count": 3,
   "metadata": {},
   "outputs": [
    {
     "data": {
      "text/html": [
       "<div>\n",
       "<style scoped>\n",
       "    .dataframe tbody tr th:only-of-type {\n",
       "        vertical-align: middle;\n",
       "    }\n",
       "\n",
       "    .dataframe tbody tr th {\n",
       "        vertical-align: top;\n",
       "    }\n",
       "\n",
       "    .dataframe thead th {\n",
       "        text-align: right;\n",
       "    }\n",
       "</style>\n",
       "<table border=\"1\" class=\"dataframe\">\n",
       "  <thead>\n",
       "    <tr style=\"text-align: right;\">\n",
       "      <th></th>\n",
       "      <th>Unnamed: 0</th>\n",
       "      <th>city</th>\n",
       "      <th>state</th>\n",
       "      <th>country</th>\n",
       "      <th>shape</th>\n",
       "      <th>comments</th>\n",
       "      <th>latitude</th>\n",
       "      <th>longitude</th>\n",
       "      <th>date</th>\n",
       "      <th>time</th>\n",
       "    </tr>\n",
       "  </thead>\n",
       "  <tbody>\n",
       "    <tr>\n",
       "      <th>0</th>\n",
       "      <td>0</td>\n",
       "      <td>san marcos</td>\n",
       "      <td>tx</td>\n",
       "      <td>us</td>\n",
       "      <td>cylinder</td>\n",
       "      <td>This event took place in early fall around 194...</td>\n",
       "      <td>29.883056</td>\n",
       "      <td>-97.941111</td>\n",
       "      <td>10/10/1949</td>\n",
       "      <td>20:30</td>\n",
       "    </tr>\n",
       "    <tr>\n",
       "      <th>1</th>\n",
       "      <td>3</td>\n",
       "      <td>edna</td>\n",
       "      <td>tx</td>\n",
       "      <td>us</td>\n",
       "      <td>circle</td>\n",
       "      <td>My older brother and twin sister were leaving ...</td>\n",
       "      <td>28.978333</td>\n",
       "      <td>-96.645833</td>\n",
       "      <td>10/10/1956</td>\n",
       "      <td>21:00</td>\n",
       "    </tr>\n",
       "    <tr>\n",
       "      <th>2</th>\n",
       "      <td>4</td>\n",
       "      <td>kaneohe</td>\n",
       "      <td>hi</td>\n",
       "      <td>us</td>\n",
       "      <td>light</td>\n",
       "      <td>AS a Marine 1st Lt. flying an FJ4B fighter/att...</td>\n",
       "      <td>21.418056</td>\n",
       "      <td>-157.803611</td>\n",
       "      <td>10/10/1960</td>\n",
       "      <td>20:00</td>\n",
       "    </tr>\n",
       "    <tr>\n",
       "      <th>3</th>\n",
       "      <td>5</td>\n",
       "      <td>bristol</td>\n",
       "      <td>tn</td>\n",
       "      <td>us</td>\n",
       "      <td>sphere</td>\n",
       "      <td>My father is now 89 my brother 52 the girl wit...</td>\n",
       "      <td>36.595000</td>\n",
       "      <td>-82.188889</td>\n",
       "      <td>10/10/1961</td>\n",
       "      <td>19:00</td>\n",
       "    </tr>\n",
       "    <tr>\n",
       "      <th>4</th>\n",
       "      <td>7</td>\n",
       "      <td>norwalk</td>\n",
       "      <td>ct</td>\n",
       "      <td>us</td>\n",
       "      <td>disk</td>\n",
       "      <td>A bright orange color changing to reddish colo...</td>\n",
       "      <td>41.117500</td>\n",
       "      <td>-73.408333</td>\n",
       "      <td>10/10/1965</td>\n",
       "      <td>23:45</td>\n",
       "    </tr>\n",
       "  </tbody>\n",
       "</table>\n",
       "</div>"
      ],
      "text/plain": [
       "   Unnamed: 0        city state country     shape  \\\n",
       "0           0  san marcos    tx      us  cylinder   \n",
       "1           3        edna    tx      us    circle   \n",
       "2           4     kaneohe    hi      us     light   \n",
       "3           5     bristol    tn      us    sphere   \n",
       "4           7     norwalk    ct      us      disk   \n",
       "\n",
       "                                            comments   latitude  longitude   \\\n",
       "0  This event took place in early fall around 194...  29.883056  -97.941111   \n",
       "1  My older brother and twin sister were leaving ...  28.978333  -96.645833   \n",
       "2  AS a Marine 1st Lt. flying an FJ4B fighter/att...  21.418056 -157.803611   \n",
       "3  My father is now 89 my brother 52 the girl wit...  36.595000  -82.188889   \n",
       "4  A bright orange color changing to reddish colo...  41.117500  -73.408333   \n",
       "\n",
       "         date   time  \n",
       "0  10/10/1949  20:30  \n",
       "1  10/10/1956  21:00  \n",
       "2  10/10/1960  20:00  \n",
       "3  10/10/1961  19:00  \n",
       "4  10/10/1965  23:45  "
      ]
     },
     "execution_count": 3,
     "metadata": {},
     "output_type": "execute_result"
    }
   ],
   "source": [
    "# Display the csv file as a dataframe\n",
    "us_ufo_df = pd.DataFrame(us_ufo_data)\n",
    "us_ufo_df.head()"
   ]
  },
  {
   "cell_type": "code",
   "execution_count": 4,
   "metadata": {},
   "outputs": [
    {
     "data": {
      "text/html": [
       "<div>\n",
       "<style scoped>\n",
       "    .dataframe tbody tr th:only-of-type {\n",
       "        vertical-align: middle;\n",
       "    }\n",
       "\n",
       "    .dataframe tbody tr th {\n",
       "        vertical-align: top;\n",
       "    }\n",
       "\n",
       "    .dataframe thead th {\n",
       "        text-align: right;\n",
       "    }\n",
       "</style>\n",
       "<table border=\"1\" class=\"dataframe\">\n",
       "  <thead>\n",
       "    <tr style=\"text-align: right;\">\n",
       "      <th></th>\n",
       "      <th>city</th>\n",
       "      <th>state</th>\n",
       "      <th>country</th>\n",
       "      <th>shape</th>\n",
       "      <th>comments</th>\n",
       "      <th>latitude</th>\n",
       "      <th>longitude</th>\n",
       "      <th>date</th>\n",
       "      <th>time</th>\n",
       "    </tr>\n",
       "  </thead>\n",
       "  <tbody>\n",
       "    <tr>\n",
       "      <th>0</th>\n",
       "      <td>san marcos</td>\n",
       "      <td>tx</td>\n",
       "      <td>us</td>\n",
       "      <td>cylinder</td>\n",
       "      <td>This event took place in early fall around 194...</td>\n",
       "      <td>29.883056</td>\n",
       "      <td>-97.941111</td>\n",
       "      <td>10/10/1949</td>\n",
       "      <td>20:30</td>\n",
       "    </tr>\n",
       "    <tr>\n",
       "      <th>1</th>\n",
       "      <td>edna</td>\n",
       "      <td>tx</td>\n",
       "      <td>us</td>\n",
       "      <td>circle</td>\n",
       "      <td>My older brother and twin sister were leaving ...</td>\n",
       "      <td>28.978333</td>\n",
       "      <td>-96.645833</td>\n",
       "      <td>10/10/1956</td>\n",
       "      <td>21:00</td>\n",
       "    </tr>\n",
       "    <tr>\n",
       "      <th>2</th>\n",
       "      <td>kaneohe</td>\n",
       "      <td>hi</td>\n",
       "      <td>us</td>\n",
       "      <td>light</td>\n",
       "      <td>AS a Marine 1st Lt. flying an FJ4B fighter/att...</td>\n",
       "      <td>21.418056</td>\n",
       "      <td>-157.803611</td>\n",
       "      <td>10/10/1960</td>\n",
       "      <td>20:00</td>\n",
       "    </tr>\n",
       "    <tr>\n",
       "      <th>3</th>\n",
       "      <td>bristol</td>\n",
       "      <td>tn</td>\n",
       "      <td>us</td>\n",
       "      <td>sphere</td>\n",
       "      <td>My father is now 89 my brother 52 the girl wit...</td>\n",
       "      <td>36.595000</td>\n",
       "      <td>-82.188889</td>\n",
       "      <td>10/10/1961</td>\n",
       "      <td>19:00</td>\n",
       "    </tr>\n",
       "    <tr>\n",
       "      <th>4</th>\n",
       "      <td>norwalk</td>\n",
       "      <td>ct</td>\n",
       "      <td>us</td>\n",
       "      <td>disk</td>\n",
       "      <td>A bright orange color changing to reddish colo...</td>\n",
       "      <td>41.117500</td>\n",
       "      <td>-73.408333</td>\n",
       "      <td>10/10/1965</td>\n",
       "      <td>23:45</td>\n",
       "    </tr>\n",
       "  </tbody>\n",
       "</table>\n",
       "</div>"
      ],
      "text/plain": [
       "         city state country     shape  \\\n",
       "0  san marcos    tx      us  cylinder   \n",
       "1        edna    tx      us    circle   \n",
       "2     kaneohe    hi      us     light   \n",
       "3     bristol    tn      us    sphere   \n",
       "4     norwalk    ct      us      disk   \n",
       "\n",
       "                                            comments   latitude  longitude   \\\n",
       "0  This event took place in early fall around 194...  29.883056  -97.941111   \n",
       "1  My older brother and twin sister were leaving ...  28.978333  -96.645833   \n",
       "2  AS a Marine 1st Lt. flying an FJ4B fighter/att...  21.418056 -157.803611   \n",
       "3  My father is now 89 my brother 52 the girl wit...  36.595000  -82.188889   \n",
       "4  A bright orange color changing to reddish colo...  41.117500  -73.408333   \n",
       "\n",
       "         date   time  \n",
       "0  10/10/1949  20:30  \n",
       "1  10/10/1956  21:00  \n",
       "2  10/10/1960  20:00  \n",
       "3  10/10/1961  19:00  \n",
       "4  10/10/1965  23:45  "
      ]
     },
     "execution_count": 4,
     "metadata": {},
     "output_type": "execute_result"
    }
   ],
   "source": [
    "# Remove the \"Unnamed: 0\" index row that accidently came through in the cleaned file\n",
    "us_ufo_data = us_ufo_df.drop(columns = [\"Unnamed: 0\"])\n",
    "us_ufo_data.head()"
   ]
  },
  {
   "cell_type": "markdown",
   "metadata": {},
   "source": [
    "## Initial Analysis"
   ]
  },
  {
   "cell_type": "markdown",
   "metadata": {},
   "source": [
    "### Learning more about our dataset"
   ]
  },
  {
   "cell_type": "code",
   "execution_count": null,
   "metadata": {},
   "outputs": [],
   "source": [
    "# Find the length of the dataframe?\n",
    "# How many sightings are recordered?\n",
    "us_ufo_data.shape"
   ]
  },
  {
   "cell_type": "code",
   "execution_count": null,
   "metadata": {},
   "outputs": [],
   "source": [
    "# What kind of datatypes are we looking at?\n",
    "us_ufo_data.dtypes"
   ]
  },
  {
   "cell_type": "code",
   "execution_count": null,
   "metadata": {},
   "outputs": [],
   "source": [
    "# What is the min and max range for the years?\n",
    "us_ufo_min_year = us_ufo_data[\"date\"].min()\n",
    "us_ufo_min_year\n",
    "\n",
    "us_ufo_max_year = us_ufo_data[\"date\"].max()\n",
    "us_ufo_max_year\n",
    "\n",
    "print(f\"This dataset ranges from sightings recorded in {us_ufo_min_year} to {us_ufo_max_year}\")"
   ]
  },
  {
   "cell_type": "code",
   "execution_count": null,
   "metadata": {},
   "outputs": [],
   "source": [
    "# What are all of the unique values given for the shape column?\n",
    "alien_whips = us_ufo_data[\"shape\"].unique()\n",
    "alien_whips"
   ]
  },
  {
   "cell_type": "markdown",
   "metadata": {},
   "source": [
    "### Where do aliens like to visit?"
   ]
  },
  {
   "cell_type": "code",
   "execution_count": null,
   "metadata": {},
   "outputs": [],
   "source": [
    "# Look at the state data to see which state is most visited\n",
    "# Use a groupby to get the count\n",
    "state_group = us_ufo_data.groupby(\"state\")\n",
    "state_group\n",
    "\n",
    "state_visits = state_group[\"time\"].count()\n",
    "state_visits"
   ]
  },
  {
   "cell_type": "code",
   "execution_count": null,
   "metadata": {},
   "outputs": [],
   "source": [
    "# Get the names of all of the different drug regimens to be used in the x axis\n",
    "states = us_ufo_data[\"state\"].unique()\n",
    "\n",
    "# Need to read the list alphabetically to match with tick locations\n",
    "states_alph = sorted(states)\n",
    "#states_alph"
   ]
  },
  {
   "cell_type": "code",
   "execution_count": null,
   "metadata": {},
   "outputs": [],
   "source": [
    "# Generate a bar plot showing the total number of measurements taken on each drug regimen using pyplot.\n",
    "x_axis = np.arange(0, len(states))\n",
    "\n",
    "tick_locations = []\n",
    "\n",
    "for x in x_axis:\n",
    "    tick_locations.append(x)\n",
    "\n",
    "\n",
    "# Change the size of the chart to make it more readable\n",
    "plt.figure(figsize = (15, 5))\n",
    "\n",
    "# Plot the bar chart\n",
    "plt.bar(x_axis, state_visits, align = \"center\")\n",
    "plt.xticks(tick_locations, states_alph, rotation = 90)\n",
    "\n",
    "# Add legend to match above chart visually\n",
    "plt.legend([\"Visits\"], loc = \"upper center\")\n",
    "\n",
    "# Create labels for the bar plot\n",
    "plt.title(\"Total Documented Sightings per State\")\n",
    "plt.xlabel(\"State\")\n",
    "plt.ylabel(\"Number of Sightings in the State\")\n",
    "\n",
    "# Set limits for each chart\n",
    "plt.xlim(-1, len(states_alph) + 0.5)\n",
    "plt.ylim(0, max(state_visits) + 1000)\n",
    "\n",
    "# Best practice to always include plt.show\n",
    "# Even though it is not technically needed in jupyter notebooks\n",
    "plt.show()"
   ]
  },
  {
   "cell_type": "code",
   "execution_count": null,
   "metadata": {},
   "outputs": [],
   "source": [
    "# IGNORE THIS CELL\n",
    "\n",
    "# # Generate a pie plot showing the distribution of visits across the states\n",
    "# # Labels for the sections of our pie chart\n",
    "# labels = states\n",
    "\n",
    "\n",
    "# plt.figure(figsize = (35, 7))\n",
    "\n",
    "\n",
    "# # Tell matplotlib to create a pie chart filled with corresponding percentages and displayed vertically\n",
    "# plt.pie(state_visits, labels = state_visits.index.values, autopct=\"%1.1f%%\", startangle=90)\n",
    "# plt.title(\"Distribution of UFO Sightings for each state\")\n",
    "\n",
    "# # Display resulting plot\n",
    "# plt.tight_layout()\n",
    "# plt.show()"
   ]
  },
  {
   "cell_type": "code",
   "execution_count": null,
   "metadata": {},
   "outputs": [],
   "source": [
    "# # What city within the most visited state?\n",
    "california = us_ufo_data.loc[us_ufo_data[\"state\"] == \"ca\"]\n",
    "california\n",
    "\n",
    "# What city is visited the most regardless of state visits? (Better vacation spot?)\n",
    "city_group = california.groupby(\"city\")\n",
    "city_group\n",
    "\n",
    "city_group_visits = city_group.count()[\"time\"]\n",
    "city_group_visits\n",
    "\n",
    "city_group_visits = city_group_visits.reset_index(\"city\")\n",
    "city_group_visits\n",
    "\n",
    "popular_ca_cities = city_group_visits.sort_values([\"time\"], ascending = False)\n",
    "popular_ca_cities.head(5)"
   ]
  },
  {
   "cell_type": "code",
   "execution_count": null,
   "metadata": {},
   "outputs": [],
   "source": [
    "# # Farshad way\n",
    "# city_group = us_ufo_data.groupby([\"state\",\"city\"])\n",
    "# city_group\n",
    "\n",
    "# city_group_visits = city_group.count()[\"time\"]\n",
    "# city_group_visits\n",
    "\n",
    "# city_group_visits = city_group_visits.reset_index()\n",
    "# city_group_visits"
   ]
  },
  {
   "cell_type": "code",
   "execution_count": null,
   "metadata": {},
   "outputs": [],
   "source": [
    "# US Heatmap for alien visits over the years\n",
    "# Configure gmaps\n",
    "gmaps.configure(api_key = g_key)\n",
    "\n",
    "# Use the lat and lng columns as the locations variable\n",
    "locations = us_ufo_data[[\"Latitude\", \"Longitude\"]]\n",
    "\n",
    "# Use the state visits as the weight variable\n",
    "# MIGHT HAVE TO MAKE A NEW ONE FOR CITY COUNTS IDK??\n",
    "state_visits"
   ]
  },
  {
   "cell_type": "code",
   "execution_count": null,
   "metadata": {},
   "outputs": [],
   "source": [
    "# Generate the map\n",
    "# From class discussion, it is important to set a center, and a zoom level to help make the map display properly\n",
    "# Got the center and zoom_level values through trial and error\n",
    "fig = gmaps.figure(center=(25.0, 15.0), zoom_level = 1.8)\n",
    "\n",
    "# Generate a new layer on the map - Heat layer\n",
    "heat_layer = gmaps.heatmap_layer(locations, weights = state_visits,\n",
    "                                 dissipating = False, max_intensity = 100,\n",
    "                                 point_radius = 3)\n",
    "\n",
    "# Add layer\n",
    "fig.add_layer(heat_layer)\n",
    "\n",
    "# Display figure\n",
    "fig"
   ]
  },
  {
   "cell_type": "markdown",
   "metadata": {},
   "source": [
    "### What are they drivings??"
   ]
  },
  {
   "cell_type": "code",
   "execution_count": null,
   "metadata": {},
   "outputs": [],
   "source": [
    "# # Farshad way\n",
    "\n",
    "alien_cars = us_ufo_data.groupby(\"shape\")\n",
    "alien_cars\n",
    "\n",
    "shape_count = alien_cars.count()[\"time\"]\n",
    "shape_count\n",
    "\n",
    "alien_fav_whip = shape_count.reset_index()\n",
    "alien_fav_whip"
   ]
  },
  {
   "cell_type": "code",
   "execution_count": null,
   "metadata": {},
   "outputs": [],
   "source": [
    "# # Generate a pie plot showing the distribution of visits across the states\n",
    "# # Labels for the sections of our pie chart\n",
    "labels = alien_whips\n",
    "\n",
    "\n",
    "plt.figure(figsize = (35, 7))\n",
    "\n",
    "\n",
    "# # Tell matplotlib to create a pie chart filled with corresponding percentages and displayed vertically\n",
    "plt.pie(shape_count, labels = shape_count.index.values, autopct=\"%1.1f%%\", startangle=120)\n",
    "plt.title(\"Weird shapes in the sky\")\n",
    "plt.legend(alien_whips, loc = \"right\") \n",
    "\n",
    "# # Display resulting plot\n",
    "#plt.axis(\"equal\")\n",
    "plt.show()"
   ]
  },
  {
   "cell_type": "markdown",
   "metadata": {},
   "source": [
    "### Best time for cow abduction?"
   ]
  },
  {
   "cell_type": "code",
   "execution_count": null,
   "metadata": {},
   "outputs": [],
   "source": [
    "times = us_ufo_data.loc[\"time\"]\n",
    "times\n",
    "\n",
    "#hours, us_ufo_data[\"time\"] = map(int, \"00:00\".split(':'))\n",
    "#hours"
   ]
  },
  {
   "cell_type": "code",
   "execution_count": 5,
   "metadata": {},
   "outputs": [
    {
     "data": {
      "text/html": [
       "<div>\n",
       "<style scoped>\n",
       "    .dataframe tbody tr th:only-of-type {\n",
       "        vertical-align: middle;\n",
       "    }\n",
       "\n",
       "    .dataframe tbody tr th {\n",
       "        vertical-align: top;\n",
       "    }\n",
       "\n",
       "    .dataframe thead th {\n",
       "        text-align: right;\n",
       "    }\n",
       "</style>\n",
       "<table border=\"1\" class=\"dataframe\">\n",
       "  <thead>\n",
       "    <tr style=\"text-align: right;\">\n",
       "      <th></th>\n",
       "      <th>city</th>\n",
       "      <th>state</th>\n",
       "      <th>country</th>\n",
       "      <th>shape</th>\n",
       "      <th>comments</th>\n",
       "      <th>latitude</th>\n",
       "      <th>longitude</th>\n",
       "      <th>date</th>\n",
       "      <th>time</th>\n",
       "    </tr>\n",
       "  </thead>\n",
       "  <tbody>\n",
       "    <tr>\n",
       "      <th>0</th>\n",
       "      <td>san marcos</td>\n",
       "      <td>tx</td>\n",
       "      <td>us</td>\n",
       "      <td>cylinder</td>\n",
       "      <td>This event took place in early fall around 194...</td>\n",
       "      <td>29.883056</td>\n",
       "      <td>-97.941111</td>\n",
       "      <td>10/10/1949</td>\n",
       "      <td>20:30</td>\n",
       "    </tr>\n",
       "    <tr>\n",
       "      <th>1</th>\n",
       "      <td>edna</td>\n",
       "      <td>tx</td>\n",
       "      <td>us</td>\n",
       "      <td>circle</td>\n",
       "      <td>My older brother and twin sister were leaving ...</td>\n",
       "      <td>28.978333</td>\n",
       "      <td>-96.645833</td>\n",
       "      <td>10/10/1956</td>\n",
       "      <td>21:00</td>\n",
       "    </tr>\n",
       "    <tr>\n",
       "      <th>2</th>\n",
       "      <td>kaneohe</td>\n",
       "      <td>hi</td>\n",
       "      <td>us</td>\n",
       "      <td>light</td>\n",
       "      <td>AS a Marine 1st Lt. flying an FJ4B fighter/att...</td>\n",
       "      <td>21.418056</td>\n",
       "      <td>-157.803611</td>\n",
       "      <td>10/10/1960</td>\n",
       "      <td>20:00</td>\n",
       "    </tr>\n",
       "    <tr>\n",
       "      <th>3</th>\n",
       "      <td>bristol</td>\n",
       "      <td>tn</td>\n",
       "      <td>us</td>\n",
       "      <td>sphere</td>\n",
       "      <td>My father is now 89 my brother 52 the girl wit...</td>\n",
       "      <td>36.595000</td>\n",
       "      <td>-82.188889</td>\n",
       "      <td>10/10/1961</td>\n",
       "      <td>19:00</td>\n",
       "    </tr>\n",
       "    <tr>\n",
       "      <th>4</th>\n",
       "      <td>norwalk</td>\n",
       "      <td>ct</td>\n",
       "      <td>us</td>\n",
       "      <td>disk</td>\n",
       "      <td>A bright orange color changing to reddish colo...</td>\n",
       "      <td>41.117500</td>\n",
       "      <td>-73.408333</td>\n",
       "      <td>10/10/1965</td>\n",
       "      <td>23:45</td>\n",
       "    </tr>\n",
       "  </tbody>\n",
       "</table>\n",
       "</div>"
      ],
      "text/plain": [
       "         city state country     shape  \\\n",
       "0  san marcos    tx      us  cylinder   \n",
       "1        edna    tx      us    circle   \n",
       "2     kaneohe    hi      us     light   \n",
       "3     bristol    tn      us    sphere   \n",
       "4     norwalk    ct      us      disk   \n",
       "\n",
       "                                            comments   latitude  longitude   \\\n",
       "0  This event took place in early fall around 194...  29.883056  -97.941111   \n",
       "1  My older brother and twin sister were leaving ...  28.978333  -96.645833   \n",
       "2  AS a Marine 1st Lt. flying an FJ4B fighter/att...  21.418056 -157.803611   \n",
       "3  My father is now 89 my brother 52 the girl wit...  36.595000  -82.188889   \n",
       "4  A bright orange color changing to reddish colo...  41.117500  -73.408333   \n",
       "\n",
       "         date   time  \n",
       "0  10/10/1949  20:30  \n",
       "1  10/10/1956  21:00  \n",
       "2  10/10/1960  20:00  \n",
       "3  10/10/1961  19:00  \n",
       "4  10/10/1965  23:45  "
      ]
     },
     "execution_count": 5,
     "metadata": {},
     "output_type": "execute_result"
    }
   ],
   "source": [
    "us_ufo_data.head()"
   ]
  },
  {
   "cell_type": "code",
   "execution_count": null,
   "metadata": {},
   "outputs": [],
   "source": [
    "us_ufo_data.dtypes"
   ]
  },
  {
   "cell_type": "code",
   "execution_count": 16,
   "metadata": {},
   "outputs": [
    {
     "data": {
      "text/html": [
       "<div>\n",
       "<style scoped>\n",
       "    .dataframe tbody tr th:only-of-type {\n",
       "        vertical-align: middle;\n",
       "    }\n",
       "\n",
       "    .dataframe tbody tr th {\n",
       "        vertical-align: top;\n",
       "    }\n",
       "\n",
       "    .dataframe thead th {\n",
       "        text-align: right;\n",
       "    }\n",
       "</style>\n",
       "<table border=\"1\" class=\"dataframe\">\n",
       "  <thead>\n",
       "    <tr style=\"text-align: right;\">\n",
       "      <th></th>\n",
       "      <th>city</th>\n",
       "      <th>state</th>\n",
       "      <th>country</th>\n",
       "      <th>shape</th>\n",
       "      <th>comments</th>\n",
       "      <th>latitude</th>\n",
       "      <th>longitude</th>\n",
       "      <th>date</th>\n",
       "      <th>time</th>\n",
       "      <th>day</th>\n",
       "      <th>month</th>\n",
       "      <th>year</th>\n",
       "      <th>hour</th>\n",
       "    </tr>\n",
       "  </thead>\n",
       "  <tbody>\n",
       "    <tr>\n",
       "      <th>0</th>\n",
       "      <td>san marcos</td>\n",
       "      <td>tx</td>\n",
       "      <td>us</td>\n",
       "      <td>cylinder</td>\n",
       "      <td>This event took place in early fall around 194...</td>\n",
       "      <td>29.883056</td>\n",
       "      <td>-97.941111</td>\n",
       "      <td>10/10/1949</td>\n",
       "      <td>20:30</td>\n",
       "      <td>10</td>\n",
       "      <td>10</td>\n",
       "      <td>1949</td>\n",
       "      <td>20.0</td>\n",
       "    </tr>\n",
       "    <tr>\n",
       "      <th>1</th>\n",
       "      <td>edna</td>\n",
       "      <td>tx</td>\n",
       "      <td>us</td>\n",
       "      <td>circle</td>\n",
       "      <td>My older brother and twin sister were leaving ...</td>\n",
       "      <td>28.978333</td>\n",
       "      <td>-96.645833</td>\n",
       "      <td>10/10/1956</td>\n",
       "      <td>21:00</td>\n",
       "      <td>10</td>\n",
       "      <td>10</td>\n",
       "      <td>1956</td>\n",
       "      <td>21.0</td>\n",
       "    </tr>\n",
       "    <tr>\n",
       "      <th>2</th>\n",
       "      <td>kaneohe</td>\n",
       "      <td>hi</td>\n",
       "      <td>us</td>\n",
       "      <td>light</td>\n",
       "      <td>AS a Marine 1st Lt. flying an FJ4B fighter/att...</td>\n",
       "      <td>21.418056</td>\n",
       "      <td>-157.803611</td>\n",
       "      <td>10/10/1960</td>\n",
       "      <td>20:00</td>\n",
       "      <td>10</td>\n",
       "      <td>10</td>\n",
       "      <td>1960</td>\n",
       "      <td>20.0</td>\n",
       "    </tr>\n",
       "    <tr>\n",
       "      <th>3</th>\n",
       "      <td>bristol</td>\n",
       "      <td>tn</td>\n",
       "      <td>us</td>\n",
       "      <td>sphere</td>\n",
       "      <td>My father is now 89 my brother 52 the girl wit...</td>\n",
       "      <td>36.595000</td>\n",
       "      <td>-82.188889</td>\n",
       "      <td>10/10/1961</td>\n",
       "      <td>19:00</td>\n",
       "      <td>10</td>\n",
       "      <td>10</td>\n",
       "      <td>1961</td>\n",
       "      <td>19.0</td>\n",
       "    </tr>\n",
       "    <tr>\n",
       "      <th>4</th>\n",
       "      <td>norwalk</td>\n",
       "      <td>ct</td>\n",
       "      <td>us</td>\n",
       "      <td>disk</td>\n",
       "      <td>A bright orange color changing to reddish colo...</td>\n",
       "      <td>41.117500</td>\n",
       "      <td>-73.408333</td>\n",
       "      <td>10/10/1965</td>\n",
       "      <td>23:45</td>\n",
       "      <td>10</td>\n",
       "      <td>10</td>\n",
       "      <td>1965</td>\n",
       "      <td>23.0</td>\n",
       "    </tr>\n",
       "  </tbody>\n",
       "</table>\n",
       "</div>"
      ],
      "text/plain": [
       "         city state country     shape  \\\n",
       "0  san marcos    tx      us  cylinder   \n",
       "1        edna    tx      us    circle   \n",
       "2     kaneohe    hi      us     light   \n",
       "3     bristol    tn      us    sphere   \n",
       "4     norwalk    ct      us      disk   \n",
       "\n",
       "                                            comments   latitude  longitude   \\\n",
       "0  This event took place in early fall around 194...  29.883056  -97.941111   \n",
       "1  My older brother and twin sister were leaving ...  28.978333  -96.645833   \n",
       "2  AS a Marine 1st Lt. flying an FJ4B fighter/att...  21.418056 -157.803611   \n",
       "3  My father is now 89 my brother 52 the girl wit...  36.595000  -82.188889   \n",
       "4  A bright orange color changing to reddish colo...  41.117500  -73.408333   \n",
       "\n",
       "         date   time day month  year  hour  \n",
       "0  10/10/1949  20:30  10    10  1949  20.0  \n",
       "1  10/10/1956  21:00  10    10  1956  21.0  \n",
       "2  10/10/1960  20:00  10    10  1960  20.0  \n",
       "3  10/10/1961  19:00  10    10  1961  19.0  \n",
       "4  10/10/1965  23:45  10    10  1965  23.0  "
      ]
     },
     "execution_count": 16,
     "metadata": {},
     "output_type": "execute_result"
    }
   ],
   "source": [
    "us_ufo_data[\"hour\"] = np.floor(us_ufo_data[\"time\"].str.replace(\":\", \"\").astype(\"int\") / 100)\n",
    "us_ufo_data[\"hour\"] %= 24 \n",
    "us_ufo_data.head()\n",
    "\n"
   ]
  },
  {
   "cell_type": "code",
   "execution_count": 17,
   "metadata": {},
   "outputs": [
    {
     "data": {
      "text/plain": [
       "hour\n",
       "0.0     3520\n",
       "1.0     2453\n",
       "2.0     1746\n",
       "3.0     1513\n",
       "4.0     1175\n",
       "5.0     1313\n",
       "6.0      972\n",
       "7.0      708\n",
       "8.0      649\n",
       "9.0      792\n",
       "10.0     941\n",
       "11.0     897\n",
       "12.0    1051\n",
       "13.0    1011\n",
       "14.0    1004\n",
       "15.0    1119\n",
       "16.0    1272\n",
       "17.0    2073\n",
       "18.0    3252\n",
       "19.0    4977\n",
       "20.0    7109\n",
       "21.0    9432\n",
       "22.0    8616\n",
       "23.0    5958\n",
       "Name: hour, dtype: int64"
      ]
     },
     "execution_count": 17,
     "metadata": {},
     "output_type": "execute_result"
    }
   ],
   "source": [
    "time_group = us_ufo_data.groupby(\"hour\")\n",
    "\n",
    "times_of_day = us_ufo_data[\"hour\"].unique()\n",
    "times_of_day.sort()\n",
    "\n",
    "num_visits = time_group[\"hour\"].count()\n",
    "num_visits"
   ]
  },
  {
   "cell_type": "code",
   "execution_count": 18,
   "metadata": {},
   "outputs": [
    {
     "data": {
      "text/plain": [
       "23.0"
      ]
     },
     "execution_count": 18,
     "metadata": {},
     "output_type": "execute_result"
    }
   ],
   "source": [
    "us_ufo_data[\"hour\"].max()"
   ]
  },
  {
   "cell_type": "code",
   "execution_count": 19,
   "metadata": {},
   "outputs": [
    {
     "data": {
      "image/png": "[encoded data removed]",
      "text/plain": [
       "<Figure size 1080x360 with 1 Axes>"
      ]
     },
     "metadata": {
      "needs_background": "light"
     },
     "output_type": "display_data"
    }
   ],
   "source": [
    "plt.figure(figsize = (15, 5))\n",
    "\n",
    "# Scatter plot to see if the time of day has any correlation with total number of visits\n",
    "\n",
    "plt.scatter(times_of_day, num_visits)\n",
    "\n",
    "\n",
    "# Arrange tick labels\n",
    "plt.xticks(np.arange(0, 24, 1))\n",
    "\n",
    "# Set the title and x and y labels of the plot\n",
    "plt.title(\"Number of Sightings at Time of Day\")\n",
    "plt.xlabel(\"Time of day\")\n",
    "plt.ylabel(\"Number of sightings\")\n",
    "\n",
    "# Best practice to use plt.show()\n",
    "plt.show()"
   ]
  },
  {
   "cell_type": "markdown",
   "metadata": {},
   "source": [
    "### Do they keep coming back?"
   ]
  },
  {
   "cell_type": "code",
   "execution_count": 7,
   "metadata": {},
   "outputs": [
    {
     "data": {
      "text/html": [
       "<div>\n",
       "<style scoped>\n",
       "    .dataframe tbody tr th:only-of-type {\n",
       "        vertical-align: middle;\n",
       "    }\n",
       "\n",
       "    .dataframe tbody tr th {\n",
       "        vertical-align: top;\n",
       "    }\n",
       "\n",
       "    .dataframe thead th {\n",
       "        text-align: right;\n",
       "    }\n",
       "</style>\n",
       "<table border=\"1\" class=\"dataframe\">\n",
       "  <thead>\n",
       "    <tr style=\"text-align: right;\">\n",
       "      <th></th>\n",
       "      <th>city</th>\n",
       "      <th>state</th>\n",
       "      <th>country</th>\n",
       "      <th>shape</th>\n",
       "      <th>comments</th>\n",
       "      <th>latitude</th>\n",
       "      <th>longitude</th>\n",
       "      <th>date</th>\n",
       "      <th>time</th>\n",
       "      <th>day</th>\n",
       "      <th>month</th>\n",
       "      <th>year</th>\n",
       "    </tr>\n",
       "  </thead>\n",
       "  <tbody>\n",
       "    <tr>\n",
       "      <th>0</th>\n",
       "      <td>san marcos</td>\n",
       "      <td>tx</td>\n",
       "      <td>us</td>\n",
       "      <td>cylinder</td>\n",
       "      <td>This event took place in early fall around 194...</td>\n",
       "      <td>29.883056</td>\n",
       "      <td>-97.941111</td>\n",
       "      <td>10/10/1949</td>\n",
       "      <td>20:30</td>\n",
       "      <td>10</td>\n",
       "      <td>10</td>\n",
       "      <td>1949</td>\n",
       "    </tr>\n",
       "    <tr>\n",
       "      <th>1</th>\n",
       "      <td>edna</td>\n",
       "      <td>tx</td>\n",
       "      <td>us</td>\n",
       "      <td>circle</td>\n",
       "      <td>My older brother and twin sister were leaving ...</td>\n",
       "      <td>28.978333</td>\n",
       "      <td>-96.645833</td>\n",
       "      <td>10/10/1956</td>\n",
       "      <td>21:00</td>\n",
       "      <td>10</td>\n",
       "      <td>10</td>\n",
       "      <td>1956</td>\n",
       "    </tr>\n",
       "    <tr>\n",
       "      <th>2</th>\n",
       "      <td>kaneohe</td>\n",
       "      <td>hi</td>\n",
       "      <td>us</td>\n",
       "      <td>light</td>\n",
       "      <td>AS a Marine 1st Lt. flying an FJ4B fighter/att...</td>\n",
       "      <td>21.418056</td>\n",
       "      <td>-157.803611</td>\n",
       "      <td>10/10/1960</td>\n",
       "      <td>20:00</td>\n",
       "      <td>10</td>\n",
       "      <td>10</td>\n",
       "      <td>1960</td>\n",
       "    </tr>\n",
       "    <tr>\n",
       "      <th>3</th>\n",
       "      <td>bristol</td>\n",
       "      <td>tn</td>\n",
       "      <td>us</td>\n",
       "      <td>sphere</td>\n",
       "      <td>My father is now 89 my brother 52 the girl wit...</td>\n",
       "      <td>36.595000</td>\n",
       "      <td>-82.188889</td>\n",
       "      <td>10/10/1961</td>\n",
       "      <td>19:00</td>\n",
       "      <td>10</td>\n",
       "      <td>10</td>\n",
       "      <td>1961</td>\n",
       "    </tr>\n",
       "    <tr>\n",
       "      <th>4</th>\n",
       "      <td>norwalk</td>\n",
       "      <td>ct</td>\n",
       "      <td>us</td>\n",
       "      <td>disk</td>\n",
       "      <td>A bright orange color changing to reddish colo...</td>\n",
       "      <td>41.117500</td>\n",
       "      <td>-73.408333</td>\n",
       "      <td>10/10/1965</td>\n",
       "      <td>23:45</td>\n",
       "      <td>10</td>\n",
       "      <td>10</td>\n",
       "      <td>1965</td>\n",
       "    </tr>\n",
       "  </tbody>\n",
       "</table>\n",
       "</div>"
      ],
      "text/plain": [
       "         city state country     shape  \\\n",
       "0  san marcos    tx      us  cylinder   \n",
       "1        edna    tx      us    circle   \n",
       "2     kaneohe    hi      us     light   \n",
       "3     bristol    tn      us    sphere   \n",
       "4     norwalk    ct      us      disk   \n",
       "\n",
       "                                            comments   latitude  longitude   \\\n",
       "0  This event took place in early fall around 194...  29.883056  -97.941111   \n",
       "1  My older brother and twin sister were leaving ...  28.978333  -96.645833   \n",
       "2  AS a Marine 1st Lt. flying an FJ4B fighter/att...  21.418056 -157.803611   \n",
       "3  My father is now 89 my brother 52 the girl wit...  36.595000  -82.188889   \n",
       "4  A bright orange color changing to reddish colo...  41.117500  -73.408333   \n",
       "\n",
       "         date   time day month  year  \n",
       "0  10/10/1949  20:30  10    10  1949  \n",
       "1  10/10/1956  21:00  10    10  1956  \n",
       "2  10/10/1960  20:00  10    10  1960  \n",
       "3  10/10/1961  19:00  10    10  1961  \n",
       "4  10/10/1965  23:45  10    10  1965  "
      ]
     },
     "execution_count": 7,
     "metadata": {},
     "output_type": "execute_result"
    }
   ],
   "source": [
    "calendar = us_ufo_data[\"date\"].str.split(\"/\", n = 2, expand = True)\n",
    "us_ufo_data[\"day\"] = calendar[0]\n",
    "us_ufo_data[\"month\"] = calendar[1]\n",
    "us_ufo_data[\"year\"] = calendar[2]\n",
    "\n",
    "us_ufo_data.head()\n"
   ]
  },
  {
   "cell_type": "code",
   "execution_count": 8,
   "metadata": {},
   "outputs": [
    {
     "data": {
      "text/plain": [
       "year\n",
       "1910       2\n",
       "1920       1\n",
       "1925       1\n",
       "1929       1\n",
       "1931       2\n",
       "        ... \n",
       "2010    3507\n",
       "2011    4332\n",
       "2012    6253\n",
       "2013    5991\n",
       "2014    1931\n",
       "Name: year, Length: 83, dtype: int64"
      ]
     },
     "execution_count": 8,
     "metadata": {},
     "output_type": "execute_result"
    }
   ],
   "source": [
    "year_group = us_ufo_data.groupby(\"year\")\n",
    "\n",
    "years = us_ufo_data[\"year\"].unique()\n",
    "years.sort()\n",
    "\n",
    "visits_per_year = year_group[\"year\"].count()\n",
    "visits_per_year"
   ]
  },
  {
   "cell_type": "code",
   "execution_count": 15,
   "metadata": {},
   "outputs": [
    {
     "data": {
      "image/png": "[encoded data removed]",
      "text/plain": [
       "<Figure size 1080x360 with 1 Axes>"
      ]
     },
     "metadata": {
      "needs_background": "light"
     },
     "output_type": "display_data"
    }
   ],
   "source": [
    "plt.figure(figsize = (15, 5))\n",
    "\n",
    "# Scatter plot to see if the time of day has any correlation with total number of visits\n",
    "\n",
    "plt.plot(years, visits_per_year, marker = \"^\")\n",
    "\n",
    "\n",
    "# Arrange tick labels\n",
    "plt.xticks(np.arange(0, 84, 10))\n",
    "\n",
    "# Set the title and x and y labels of the plot\n",
    "plt.title(\"Number of Visits per year\")\n",
    "plt.xlabel(\"Year\")\n",
    "plt.ylabel(\"Number of sightings\")\n",
    "\n",
    "# Best practice to use plt.show()\n",
    "plt.show()"
   ]
  },
  {
   "cell_type": "code",
   "execution_count": null,
   "metadata": {},
   "outputs": [],
   "source": []
  },
  {
   "cell_type": "markdown",
   "metadata": {},
   "source": [
    "### Noah Code Ends here"
   ]
  },
  {
   "cell_type": "markdown",
   "metadata": {},
   "source": [
    "## Deeper Analysis\n",
    "### Mahnoor Code Starts here"
   ]
  },
  {
   "cell_type": "markdown",
   "metadata": {},
   "source": [
    "### Regression or hypothesis testing"
   ]
  },
  {
   "cell_type": "code",
   "execution_count": null,
   "metadata": {},
   "outputs": [],
   "source": [
    "# Regression possibilities\n",
    "\n",
    "#    Can we predict the number of total sightings for 2016?\n",
    "#    What city will have the highest visits in 2016?\n",
    "#    Can we predict what region an alien is most likely to visit on their next vacation to earth?"
   ]
  },
  {
   "cell_type": "code",
   "execution_count": null,
   "metadata": {},
   "outputs": [],
   "source": [
    "# Hypothesis testing possibilities\n",
    "\n",
    "#    We believe that aliens prefer to visit at night, and that sightings will most likely happen between 10pm and 2am\n",
    "#    We think us excitement around aliens peaks around halloween, so the majority of sightings will be in the fall (Sept - Nov)\n",
    "#    We believe the midwest, not the southwest (area 51) will have the most sightings (More cows to abduct!!)\n",
    "#    Is area 51 (Nevada and surrounding area) truly the hub of all recorded alien activity??"
   ]
  },
  {
   "cell_type": "code",
   "execution_count": null,
   "metadata": {},
   "outputs": [],
   "source": [
    "## We could potentially look at the 2016 csv we almost used to see how accurate our predictions were??\n",
    "## Idk if that would be a stretch or like bad to compare (apples to oranges?)"
   ]
  },
  {
   "cell_type": "markdown",
   "metadata": {},
   "source": [
    "### Mahnoor Code Ends here"
   ]
  },
  {
   "cell_type": "code",
   "execution_count": null,
   "metadata": {},
   "outputs": [],
   "source": []
  }
 ],
 "metadata": {
  "anaconda-cloud": {},
  "kernel_info": {
   "name": "python3"
  },
  "kernelspec": {
   "display_name": "Python 3",
   "language": "python",
   "name": "python3"
  },
  "language_info": {
   "codemirror_mode": {
    "name": "ipython",
    "version": 3
   },
   "file_extension": ".py",
   "mimetype": "text/x-python",
   "name": "python",
   "nbconvert_exporter": "python",
   "pygments_lexer": "ipython3",
   "version": "3.6.10"
  },
  "latex_envs": {
   "LaTeX_envs_menu_present": true,
   "autoclose": false,
   "autocomplete": true,
   "bibliofile": "biblio.bib",
   "cite_by": "apalike",
   "current_citInitial": 1,
   "eqLabelWithNumbers": true,
   "eqNumInitial": 1,
   "hotkeys": {
    "equation": "Ctrl-E",
    "itemize": "Ctrl-I"
   },
   "labels_anchors": false,
   "latex_user_defs": false,
   "report_style_numbering": false,
   "user_envs_cfg": false
  },
  "nteract": {
   "version": "0.2.0"
  }
 },
 "nbformat": 4,
 "nbformat_minor": 2
}
